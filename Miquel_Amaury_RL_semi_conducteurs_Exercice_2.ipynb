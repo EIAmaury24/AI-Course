{
  "nbformat": 4,
  "nbformat_minor": 0,
  "metadata": {
    "colab": {
      "provenance": [],
      "include_colab_link": true
    },
    "kernelspec": {
      "name": "python3",
      "display_name": "Python 3"
    },
    "language_info": {
      "name": "python"
    }
  },
  "cells": [
    {
      "cell_type": "markdown",
      "metadata": {
        "id": "view-in-github",
        "colab_type": "text"
      },
      "source": [
        "<a href=\"https://colab.research.google.com/github/EIAmaury24/AI-Course/blob/main/Miquel_Amaury_RL_semi_conducteurs_Exercice_2.ipynb\" target=\"_parent\"><img src=\"https://colab.research.google.com/assets/colab-badge.svg\" alt=\"Open In Colab\"/></a>"
      ]
    },
    {
      "cell_type": "code",
      "execution_count": 7,
      "metadata": {
        "id": "fBGWIJJ6tsh3"
      },
      "outputs": [],
      "source": [
        "import gymnasium as gym\n",
        "from gymnasium import spaces\n",
        "import numpy as np\n",
        "import torch\n",
        "import torch.nn as nn\n",
        "import torch.nn.functional as F\n",
        "import torch.optim as optim\n",
        "from torch.distributions import Categorical\n",
        "from collections import deque\n",
        "import matplotlib.pyplot as plt"
      ]
    },
    {
      "cell_type": "markdown",
      "source": [
        "# **Exercice 2 : Reinforcement learning dans une grille 5×5**"
      ],
      "metadata": {
        "id": "9nBtTuUxtwwg"
      }
    },
    {
      "cell_type": "markdown",
      "source": [
        "## **Descriprion**\n",
        "Un agent se déplace dans une grille de 5×5 cases en partant de la position (0,0) et doit atteindre un objectif situé à (4,4). À chaque étape, l'agent peut choisir l'une des quatre actions possibles :\n",
        "\n",
        "\n",
        "1.  Haut (U).\n",
        "2.  Bas (D).\n",
        "3.  Gauche (L).\n",
        "4.  Droite (R)\n",
        "\n",
        "L'agent reçoit une récompense de +1 lorsqu'il atteint la cible et une récompense de -1 à chaque autre étape. S'il tente de sortir des limites de la grille, il reste sur place. L'objectif est d'entraîner un agent utilisant l'algorithme REINFORCE pour apprendre la meilleure politique de déplacement vers la cible en minimisant le nombre d'étapes.\n",
        "\n",
        "# **Questions**\n",
        "\n",
        "### **Compréhension de l’environnement**\n",
        "1.   Quels sont les états possibles ($s_{t}$) de l’agent dans cet environnement ?\n",
        "2.   Quelles sont les actions ($a_{t}$) que l’agent peut effectuer et comment influencent-elles son état ?\n",
        "3.   Comment la fonction de récompense ($R_{t}$) est-elle définie et quel est son impact sur l’apprentissage ?\n",
        "\n",
        "### **Implémentation avec REINFORCE**\n",
        "1.   Comment représenter l’agent sous forme d’un réseau de neurones pour approximer la politique ?\n",
        "2.   Quel est le rôle de la politique stochastique dans l’algorithme REINFORCE\n",
        "3.   Comment la mise à jour des poids du réseau de neurones est-elle effectuée à partir des épisodes joués ?\n",
        "\n",
        "### **Expérimentation et analyse**\n",
        "1.   Après l'entraînement, comment pouvez-vous évaluer si l'agent a bien appris à atteindre la cible efficacement ?\n",
        "2.   Que se passe-t-il si la grille devient plus grande (par exemple, 10×10) ? Quels ajustements seraient nécessaires dans l’apprentissage ?"
      ],
      "metadata": {
        "id": "mMkPP6batz4w"
      }
    },
    {
      "cell_type": "markdown",
      "source": [
        "# **Réponses**\n",
        "### **Compréhension de l’environnement**\n",
        "1. Les états possibles ($s_{t}$) de l’agent dans cet environnement sont l'ensemble des coordonnées de la grille (5*5).\n",
        "\n",
        "2.   L'agent peut effectuer quatre actions:\n",
        "  1.  Haut (U).\n",
        "  2.  Bas (D).\n",
        "  3.  Gauche (L).\n",
        "  4.  Droite (R)\n",
        "\n",
        "Chaque action modifie une des coordonées de son état\n",
        "\n",
        "3.  La fonction de récompense ($R_{t}$) est-elle définie par une récompense de +1 lorsqu'il atteint la cible et une récompense de -1 à chaque autre étape. L'objectif sera donc maximiser cette récompense en atteignant la cible finale avec le moins de déplacement possible.\n",
        "\n",
        "\n",
        "### **Implémentation avec REINFORCE**\n",
        "1.   Comment représenter l’agent sous forme d’un réseau de neurones pour approximer la politique ?\n",
        "Nous pouvons mettre en place un Réseaux de neuronnes avec plusieurs couche Dense:\n",
        "\n",
        "\n",
        "    Input: input_size=2\n",
        "    Dense: h_size=128, activation_function=Relu\n",
        "    Dense: o_size=4,activation_function=Softmax\n",
        "\n",
        "2.   Dans un politique stochastique, l'agent va choisir une action parmi une distribution de probabilité. Cette distribution permet ainsi de favoriser l'exploration notamment utile dans la résolution d'un labyrinthe. Cette olitique permet donc d'effectuer un maximum de recherche avant de converger vers la solution optimale.\n",
        "\n",
        "\n",
        "3.   A chaque fin d'épisods, nous calculons le return qui est la somme de toutes les rewards pendant l'épisode. Puis nous calculons le gradient du return attendu. Le gradient réprésente la direction à prendre pour atteindre le maximum. Ce gradient nous permet ainsi d'ajuster les poids en fontion du learning rate.\n",
        "\n",
        "\n",
        "    weight=weight+gradient*learning_rate\n",
        "\n",
        "### **Expérimentation et analyse**\n",
        "1.   Après l'entrainement, nous pouvons vérifier l'apprentissage de l'agent en traçant sa trajectoire dans la grille afin de vérifier son efficacité. Nous pouvons aussi calculer le return de sa trajectoire afin de la comparer à celle optimale du labyrinthe.\n",
        "\n",
        "2.   Dans le cas où la grille serait plus grande, il faudrait rajouter des couches de neuronnes dans le réseau afin de faciliter son apprentissage. On pourrait de plus amélioirer le système de reward en ajoutant des rewards intermédiares à des points remarquables de la grille pour atteindre plus facilement l'objectif. Nous pourrions aussi augmenter le nombre d'actions par épisodes pour favoriser l'exploration."
      ],
      "metadata": {
        "id": "xaJVqZCJKilF"
      }
    },
    {
      "cell_type": "markdown",
      "source": [
        "# Reinforcement Learning Example for for grid resolution\n",
        "## 1️⃣ Problem Description\n",
        "The goal is to use Reinforcement Learning (RL) to learn an optimal path to resolve the grid (5*5). The agent must decide between four actions (UP, DOWN, RIGHT, LEFT) in order to reach the case (4x4).\n",
        "\n",
        "\n",
        "## Definition of RL Elements\n",
        "\n",
        "### ✅ State:\n",
        "The machine's state is represented as a vector of two discrete variables:\n",
        "\n",
        "    X: [0,5]\n",
        "    Y::[0,5]\n",
        "\n",
        "### ✅ Actions:\n",
        "The agent can choose between four actions:\n",
        "\n",
        "    Action 0: UP\n",
        "    Action 1: DOWN\n",
        "    Action 2: RIGHT\n",
        "    Action 3: LEFT\n",
        "\n",
        "### ✅ Reward:\n",
        "\n",
        "The Rewards will depends on the position:\n",
        "\n",
        "    for the postion (4x4)→ +1 (positive reward)\n",
        "    others positions → -1 (negative reward)\n",
        "    Reward de rapprochement\n",
        "    Reward d'éloignement\n",
        "\n",
        "✅ Agent’s Objective:\n",
        "Maximize the cumulative reward by learning how to reach the final postion by the most efficiently trajectory.\n",
        "\n",
        "3️⃣ Algorithm Used\n",
        "The REINFORCE (Policy Gradient) algorithm is used to train the agent. The agent updates its policy based on the rewards obtained after each episode.\n",
        "\n",
        "Policy Model:  \n",
        "\n",
        "    Neural network with 2 inputs (state),\n",
        "    Fist hidden layers - Dense  (h_size=128),\n",
        "    Second hidden layer - Dense (h_size_1=64),\n",
        "    Dense (4 outputs)\n",
        "\n",
        "Optimization: Adam algorithm with a learning rate of 1e-3.\n",
        "Discount factor reduction (gamma=0.9) to improve short-term learning.\n"
      ],
      "metadata": {
        "id": "qT3vGj3-U3gl"
      }
    },
    {
      "cell_type": "code",
      "source": [
        "class Labyrinthe:\n",
        "    def __init__(self):\n",
        "        self.reset()\n",
        "\n",
        "    def reset(self):\n",
        "        \"\"\"Environment reset\"\"\"\n",
        "        self.state = np.array([0,0])# initial position\n",
        "        return self.state\n",
        "\n",
        "    def step(self, action):\n",
        "            done = False\n",
        "            reward = 0\n",
        "            # Objectif final (ex: position [4,4])\n",
        "            goal = np.array([4, 4])\n",
        "            old_state=self.state.copy()\n",
        "            # Actions : UP = 0, DOWN = 1, RIGHT = 2, LEFT = 3\n",
        "            if action == 0:  # UP\n",
        "                if self.state[1] < 4:\n",
        "                    reward = -1\n",
        "                    self.state[1] += 1\n",
        "\n",
        "            elif action == 1:  # DOWN\n",
        "                if self.state[1] > 0:\n",
        "                    reward = -1\n",
        "                    self.state[1] -= 1\n",
        "\n",
        "            elif action == 2:  # RIGHT\n",
        "                if self.state[0] < 4:\n",
        "                    reward = -1\n",
        "                    self.state[0] += 1\n",
        "\n",
        "            elif action == 3:  # LEFT\n",
        "                if self.state[0] > 0:\n",
        "                    reward = -1\n",
        "                    self.state[0] -= 1\n",
        "\n",
        "\n",
        "            old_dist = np.linalg.norm(old_state - goal)\n",
        "            new_dist = np.linalg.norm(self.state - goal)\n",
        "\n",
        "            # Récompense plus négative si l'agent s'éloigne\n",
        "            if new_dist > old_dist:\n",
        "                reward = -5\n",
        "            elif new_dist < old_dist:\n",
        "                reward = -1\n",
        "            if np.array_equal(self.state, goal):\n",
        "                reward = 100\n",
        "                done=True\n",
        "\n",
        "            return self.state, reward, done"
      ],
      "metadata": {
        "id": "W5MqM-q0WkEX"
      },
      "execution_count": 43,
      "outputs": []
    },
    {
      "cell_type": "code",
      "source": [
        "class Policy(nn.Module):\n",
        "    def __init__(self, s_size=2, h_size=128,  h_size_1=64,a_size=4):\n",
        "        super(Policy, self).__init__()\n",
        "        self.fc1 = nn.Linear(s_size, h_size)\n",
        "        self.fc2 = nn.Linear(h_size, h_size_1)\n",
        "        self.fc3 = nn.Linear(h_size_1, a_size)\n",
        "\n",
        "    def forward(self, x):\n",
        "        x = F.relu(self.fc1(x))\n",
        "        x = F.relu(self.fc2(x))\n",
        "        x = self.fc3(x)\n",
        "        return F.softmax(x, dim=1)\n",
        "\n",
        "    def act(self, state,epsilon = 0.1):\n",
        "        state = torch.from_numpy(state).float().unsqueeze(0)\n",
        "        probs = self.forward(state)\n",
        "        m = Categorical(probs)\n",
        "        entropy = m.entropy()  # Compute the entropy\n",
        "        action = m.sample()\n",
        "\n",
        "        return action.item(), m.log_prob(action), entropy\n",
        "\n",
        "# Initialisation de l'environnement et du modèle\n",
        "\n",
        "env = Labyrinthe()\n",
        "print('state:', env.state)\n",
        "\n",
        "device = torch.device(\"cuda:0\" if torch.cuda.is_available() else \"cpu\")\n",
        "policy = Policy().to(device)\n",
        "optimizer = optim.RMSprop(policy.parameters(), lr=1e-2)"
      ],
      "metadata": {
        "colab": {
          "base_uri": "https://localhost:8080/"
        },
        "id": "Ag1qhXbYZxIb",
        "outputId": "07f6ada3-8d06-4ca9-cf0e-0c9821dce05c"
      },
      "execution_count": 44,
      "outputs": [
        {
          "output_type": "stream",
          "name": "stdout",
          "text": [
            "state: [0 0]\n"
          ]
        }
      ]
    },
    {
      "cell_type": "code",
      "source": [
        "from re import escape\n",
        "# Algorithme REINFORCE\n",
        "def reinforce(n_episodes=1000, max_t=500, gamma=0.9, print_every=10):\n",
        "    scores_deque = deque(maxlen=100)\n",
        "    scores,avg_scores,t_table,action_0_table = [],[],[],[]\n",
        "    for i_episode in range(1, n_episodes+1):\n",
        "        saved_log_probs = []\n",
        "        rewards = []\n",
        "        state = env.reset()\n",
        "        action_0 = 0\n",
        "        for t in range(max_t):\n",
        "            action, log_prob, entropy = policy.act(state)\n",
        "            if action == 0:\n",
        "                action_0 += 1\n",
        "            saved_log_probs.append(log_prob)\n",
        "            state, reward, done = env.step(action)\n",
        "            rewards.append(reward)\n",
        "            if done:\n",
        "               break\n",
        "        action_0_table.append(action_0)\n",
        "        scores_deque.append(sum(rewards))\n",
        "        scores.append(sum(rewards))\n",
        "        if t <max_t:\n",
        "            t_table.append((i_episode,t))\n",
        "\n",
        "        # Calcul des récompenses cumulatives\n",
        "        discounts = [gamma**i for i in range(len(rewards))]\n",
        "        R = sum([a*b for a,b in zip(discounts, rewards)])\n",
        "\n",
        "        policy_loss = []\n",
        "        for log_prob in saved_log_probs:\n",
        "            entropy_bonus = 0.01 * entropy\n",
        "            policy_loss.append(-log_prob * R - entropy_bonus)\n",
        "            #policy_loss.append(-log_prob * R)\n",
        "        policy_loss = torch.cat(policy_loss).sum()\n",
        "\n",
        "        optimizer.zero_grad()\n",
        "        policy_loss.backward()\n",
        "        optimizer.step()\n",
        "\n",
        "        if i_episode % print_every == 0:\n",
        "            print(f'Episode {i_episode}\\tAverage Score: {np.mean(scores_deque):.2f}')\n",
        "            avg_scores.append(np.mean(scores_deque))\n",
        "\n",
        "    return scores, avg_scores, t_table, action_0_table\n",
        "\n",
        "# Exécution de l'entraînement\n",
        "scores,avg_scores,t_table, action_0_table = reinforce()"
      ],
      "metadata": {
        "colab": {
          "base_uri": "https://localhost:8080/"
        },
        "id": "vdS6AR-sa4Sj",
        "outputId": "edeb352c-2b42-46b7-a184-55d30f675f90"
      },
      "execution_count": null,
      "outputs": [
        {
          "output_type": "stream",
          "name": "stdout",
          "text": [
            "Episode 10\tAverage Score: -37.40\n",
            "Episode 20\tAverage Score: -18.70\n",
            "Episode 30\tAverage Score: -12.47\n",
            "Episode 40\tAverage Score: -9.35\n",
            "Episode 50\tAverage Score: -7.48\n",
            "Episode 60\tAverage Score: -6.23\n",
            "Episode 70\tAverage Score: -5.34\n",
            "Episode 80\tAverage Score: -4.67\n",
            "Episode 90\tAverage Score: -4.16\n",
            "Episode 100\tAverage Score: -3.74\n",
            "Episode 110\tAverage Score: -0.06\n",
            "Episode 120\tAverage Score: -0.06\n",
            "Episode 130\tAverage Score: -0.06\n",
            "Episode 140\tAverage Score: -0.06\n",
            "Episode 150\tAverage Score: -0.08\n",
            "Episode 160\tAverage Score: -0.11\n",
            "Episode 170\tAverage Score: -0.16\n",
            "Episode 180\tAverage Score: -0.29\n",
            "Episode 190\tAverage Score: -0.29\n",
            "Episode 200\tAverage Score: -0.35\n",
            "Episode 210\tAverage Score: -0.35\n",
            "Episode 220\tAverage Score: -0.43\n",
            "Episode 230\tAverage Score: -0.84\n",
            "Episode 240\tAverage Score: -0.93\n",
            "Episode 250\tAverage Score: -1.21\n",
            "Episode 260\tAverage Score: -1.18\n",
            "Episode 270\tAverage Score: -1.13\n",
            "Episode 280\tAverage Score: -1.00\n",
            "Episode 290\tAverage Score: -1.00\n",
            "Episode 300\tAverage Score: -0.94\n",
            "Episode 310\tAverage Score: -1.43\n",
            "Episode 320\tAverage Score: -1.35\n",
            "Episode 330\tAverage Score: -1.00\n",
            "Episode 340\tAverage Score: -0.91\n",
            "Episode 350\tAverage Score: -1.83\n",
            "Episode 360\tAverage Score: -6.21\n",
            "Episode 370\tAverage Score: -6.61\n",
            "Episode 380\tAverage Score: -21.87\n",
            "Episode 390\tAverage Score: -22.27\n",
            "Episode 400\tAverage Score: -22.67\n",
            "Episode 410\tAverage Score: -22.52\n",
            "Episode 420\tAverage Score: -22.92\n",
            "Episode 430\tAverage Score: -23.26\n",
            "Episode 440\tAverage Score: -23.66\n",
            "Episode 450\tAverage Score: -22.84\n",
            "Episode 460\tAverage Score: -18.86\n",
            "Episode 470\tAverage Score: -18.86\n",
            "Episode 480\tAverage Score: -4.00\n",
            "Episode 490\tAverage Score: -4.00\n",
            "Episode 500\tAverage Score: -4.00\n",
            "Episode 510\tAverage Score: -4.00\n",
            "Episode 520\tAverage Score: -4.00\n",
            "Episode 530\tAverage Score: -4.00\n",
            "Episode 540\tAverage Score: -4.00\n",
            "Episode 550\tAverage Score: -4.00\n",
            "Episode 560\tAverage Score: -4.00\n",
            "Episode 570\tAverage Score: -4.00\n",
            "Episode 580\tAverage Score: -4.00\n",
            "Episode 590\tAverage Score: -4.00\n",
            "Episode 600\tAverage Score: -4.00\n",
            "Episode 610\tAverage Score: -4.00\n"
          ]
        }
      ]
    },
    {
      "cell_type": "code",
      "source": [
        "fig = plt.figure()\n",
        "ax = fig.add_subplot(111)\n",
        "plt.plot(np.arange(1, len(avg_scores)+1), avg_scores)\n",
        "plt.ylabel('Score')\n",
        "plt.xlabel('Episode #')\n",
        "plt.show()"
      ],
      "metadata": {
        "colab": {
          "base_uri": "https://localhost:8080/",
          "height": 449
        },
        "id": "Si2pAjgCi-Vc",
        "outputId": "b58c316c-ebd2-4b38-dbab-71323275ccaf"
      },
      "execution_count": 30,
      "outputs": [
        {
          "output_type": "display_data",
          "data": {
            "text/plain": [
              "<Figure size 640x480 with 1 Axes>"
            ],
            "image/png": "[encoded data removed]"
          },
          "metadata": {}
        }
      ]
    }
  ]
}